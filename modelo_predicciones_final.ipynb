{
 "cells": [
  {
   "cell_type": "code",
   "execution_count": 1,
   "metadata": {},
   "outputs": [
    {
     "name": "stdout",
     "output_type": "stream",
     "text": [
      "Requirement already satisfied: pandas in c:\\users\\personal\\appdata\\local\\programs\\python\\python312\\lib\\site-packages (2.2.2)\n",
      "Requirement already satisfied: numpy in c:\\users\\personal\\appdata\\local\\programs\\python\\python312\\lib\\site-packages (1.26.4)\n",
      "Requirement already satisfied: scikit-learn in c:\\users\\personal\\appdata\\local\\programs\\python\\python312\\lib\\site-packages (1.5.1)\n",
      "Requirement already satisfied: xgboost in c:\\users\\personal\\appdata\\local\\programs\\python\\python312\\lib\\site-packages (2.1.1)\n",
      "Requirement already satisfied: lightgbm in c:\\users\\personal\\appdata\\local\\programs\\python\\python312\\lib\\site-packages (4.5.0)\n",
      "Requirement already satisfied: python-dateutil>=2.8.2 in c:\\users\\personal\\appdata\\local\\programs\\python\\python312\\lib\\site-packages (from pandas) (2.9.0.post0)\n",
      "Requirement already satisfied: pytz>=2020.1 in c:\\users\\personal\\appdata\\local\\programs\\python\\python312\\lib\\site-packages (from pandas) (2024.1)\n",
      "Requirement already satisfied: tzdata>=2022.7 in c:\\users\\personal\\appdata\\local\\programs\\python\\python312\\lib\\site-packages (from pandas) (2024.1)\n",
      "Requirement already satisfied: scipy>=1.6.0 in c:\\users\\personal\\appdata\\local\\programs\\python\\python312\\lib\\site-packages (from scikit-learn) (1.14.1)\n",
      "Requirement already satisfied: joblib>=1.2.0 in c:\\users\\personal\\appdata\\local\\programs\\python\\python312\\lib\\site-packages (from scikit-learn) (1.4.2)\n",
      "Requirement already satisfied: threadpoolctl>=3.1.0 in c:\\users\\personal\\appdata\\local\\programs\\python\\python312\\lib\\site-packages (from scikit-learn) (3.5.0)\n",
      "Requirement already satisfied: six>=1.5 in c:\\users\\personal\\appdata\\local\\programs\\python\\python312\\lib\\site-packages (from python-dateutil>=2.8.2->pandas) (1.16.0)\n",
      "Note: you may need to restart the kernel to use updated packages.\n"
     ]
    },
    {
     "name": "stderr",
     "output_type": "stream",
     "text": [
      "\n",
      "[notice] A new release of pip is available: 24.0 -> 24.2\n",
      "[notice] To update, run: python.exe -m pip install --upgrade pip\n"
     ]
    }
   ],
   "source": [
    "%pip install pandas numpy scikit-learn xgboost lightgbm"
   ]
  },
  {
   "cell_type": "code",
   "execution_count": 2,
   "metadata": {},
   "outputs": [
    {
     "name": "stdout",
     "output_type": "stream",
     "text": [
      "Requirement already satisfied: mysql-connector-python in c:\\users\\personal\\appdata\\local\\programs\\python\\python312\\lib\\site-packages (8.4.0)Note: you may need to restart the kernel to use updated packages.\n"
     ]
    },
    {
     "name": "stderr",
     "output_type": "stream",
     "text": [
      "\n",
      "[notice] A new release of pip is available: 24.0 -> 24.2\n",
      "[notice] To update, run: python.exe -m pip install --upgrade pip\n"
     ]
    },
    {
     "name": "stdout",
     "output_type": "stream",
     "text": [
      "\n"
     ]
    }
   ],
   "source": [
    "%pip install mysql-connector-python\n"
   ]
  },
  {
   "cell_type": "markdown",
   "metadata": {},
   "source": [
    "Cargamos los datos"
   ]
  },
  {
   "cell_type": "code",
   "execution_count": 7,
   "metadata": {},
   "outputs": [
    {
     "name": "stderr",
     "output_type": "stream",
     "text": [
      "C:\\Users\\PERSONAL\\AppData\\Local\\Temp\\ipykernel_6188\\3587380882.py:14: UserWarning: pandas only supports SQLAlchemy connectable (engine/connection) or database string URI or sqlite3 DBAPI2 connection. Other DBAPI2 objects are not tested. Please consider using SQLAlchemy.\n",
      "  data = pd.read_sql(query, connection)\n"
     ]
    }
   ],
   "source": [
    "import mysql.connector\n",
    "import pandas as pd\n",
    "\n",
    "# Crear la conexión a la base de datos\n",
    "connection = mysql.connector.connect(\n",
    "    user='unir', \n",
    "    password='TFEsoniafranciscomiguel', \n",
    "    host='212.227.83.77', \n",
    "    database='sakai'\n",
    ")\n",
    "\n",
    "\n",
    "query = 'SELECT * FROM sakai_final.modelo_prediccion;'\n",
    "data = pd.read_sql(query, connection)"
   ]
  },
  {
   "cell_type": "markdown",
   "metadata": {},
   "source": [
    "Verificamos los datos"
   ]
  },
  {
   "cell_type": "code",
   "execution_count": 8,
   "metadata": {},
   "outputs": [
    {
     "name": "stdout",
     "output_type": "stream",
     "text": [
      "                               sakai_id  ind_tiene_contenido  \\\n",
      "0  0e54d523-c9f2-4ac6-b708-795e66354cf0                    1   \n",
      "1  0ff08a5e-2323-4a6a-ab4d-c89a8325d400                    1   \n",
      "2  0ff33408-9fc2-4e5d-9662-3f84eb92c021                    1   \n",
      "3  0c133b9d-e572-4de7-97be-76119b52153f                    1   \n",
      "4  14304a30-e0db-4d30-ac8a-335c4b2dcf1c                    1   \n",
      "\n",
      "   ind_entrega_tarea  ind_tiene_notificaciones  ind_notificaciones_mail  \\\n",
      "0                  1                         1                        1   \n",
      "1                  1                         1                        1   \n",
      "2                  1                         1                        1   \n",
      "3                  1                         1                        1   \n",
      "4                  1                         1                        1   \n",
      "\n",
      "   ind_tiene_mensajes  ind_lee_mensajes  ind_activ_nuevo_mensaje  \\\n",
      "0                   1                 1                        1   \n",
      "1                   1                 1                        1   \n",
      "2                   1                 1                        1   \n",
      "3                   1                 1                        1   \n",
      "4                   1                 1                        0   \n",
      "\n",
      "   ind_activ_respuesta_mensaje  ind_usa_imagen_oficial  ind_mostrar_feed  \\\n",
      "0                            1                       0                 1   \n",
      "1                            1                       0                 1   \n",
      "2                            1                       0                 1   \n",
      "3                            1                       0                 1   \n",
      "4                            0                       0                 1   \n",
      "\n",
      "   ind_status_online  ind_notificac_examen  ind_notificac_tareas  \\\n",
      "0                  1                     1                     1   \n",
      "1                  1                     0                     0   \n",
      "2                  0                     1                     1   \n",
      "3                  1                     0                     0   \n",
      "4                  1                     1                     1   \n",
      "\n",
      "   ind_conexion  num_total_visitas  ind_al_menos_un_aprobado  \\\n",
      "0             1                  5                         1   \n",
      "1             1                  6                         1   \n",
      "2             1                  4                         1   \n",
      "3             1                  6                         1   \n",
      "4             1                  6                         1   \n",
      "\n",
      "   ind_todo_aprobado  \n",
      "0                  1  \n",
      "1                  1  \n",
      "2                  1  \n",
      "3                  0  \n",
      "4                  0  \n"
     ]
    }
   ],
   "source": [
    "print(data.head())"
   ]
  },
  {
   "cell_type": "code",
   "execution_count": 9,
   "metadata": {},
   "outputs": [
    {
     "name": "stdout",
     "output_type": "stream",
     "text": [
      "Requirement already satisfied: scikit-learn in c:\\users\\personal\\appdata\\local\\programs\\python\\python312\\lib\\site-packages (1.5.1)\n",
      "Requirement already satisfied: numpy>=1.19.5 in c:\\users\\personal\\appdata\\local\\programs\\python\\python312\\lib\\site-packages (from scikit-learn) (1.26.4)\n",
      "Requirement already satisfied: scipy>=1.6.0 in c:\\users\\personal\\appdata\\local\\programs\\python\\python312\\lib\\site-packages (from scikit-learn) (1.14.1)\n",
      "Requirement already satisfied: joblib>=1.2.0 in c:\\users\\personal\\appdata\\local\\programs\\python\\python312\\lib\\site-packages (from scikit-learn) (1.4.2)\n",
      "Requirement already satisfied: threadpoolctl>=3.1.0 in c:\\users\\personal\\appdata\\local\\programs\\python\\python312\\lib\\site-packages (from scikit-learn) (3.5.0)\n",
      "Note: you may need to restart the kernel to use updated packages.\n"
     ]
    },
    {
     "name": "stderr",
     "output_type": "stream",
     "text": [
      "\n",
      "[notice] A new release of pip is available: 24.0 -> 24.2\n",
      "[notice] To update, run: python.exe -m pip install --upgrade pip\n"
     ]
    }
   ],
   "source": [
    "%pip install scikit-learn"
   ]
  },
  {
   "cell_type": "markdown",
   "metadata": {},
   "source": [
    "Preprocesamiento"
   ]
  },
  {
   "cell_type": "code",
   "execution_count": 10,
   "metadata": {},
   "outputs": [],
   "source": [
    "# Definir las columnas que serán nuestras características (features)\n",
    "features = ['ind_tiene_contenido', 'ind_entrega_tarea', 'ind_tiene_notificaciones',\n",
    "            'ind_notificaciones_mail', 'ind_tiene_mensajes', 'ind_lee_mensajes',\n",
    "            'ind_activ_nuevo_mensaje', 'ind_activ_respuesta_mensaje',\n",
    "            'ind_usa_imagen_oficial', 'ind_mostrar_feed', 'ind_status_online',\n",
    "            'ind_notificac_examen', 'ind_notificac_tareas', 'ind_conexion', 'num_total_visitas']\n",
    "\n",
    "# Definir las variables dependientes (targets) para los dos modelos\n",
    "target_1 = 'ind_al_menos_un_aprobado'\n",
    "target_2 = 'ind_todo_aprobado'\n",
    "\n",
    "# Crear los conjuntos de características (X) y etiquetas (y) para los dos targets\n",
    "X = data[features]\n",
    "y_1 = data[target_1]\n",
    "y_2 = data[target_2]\n",
    "\n",
    "# Dividir en conjuntos de entrenamiento y prueba (80% entrenamiento, 20% prueba)\n",
    "from sklearn.model_selection import train_test_split\n",
    "X_train_1, X_test_1, y_train_1, y_test_1 = train_test_split(X, y_1, test_size=0.2, random_state=42)\n",
    "X_train_2, X_test_2, y_train_2, y_test_2 = train_test_split(X, y_2, test_size=0.2, random_state=42)\n"
   ]
  },
  {
   "cell_type": "markdown",
   "metadata": {},
   "source": [
    "MODELO 1. RANDOM FOREST"
   ]
  },
  {
   "cell_type": "code",
   "execution_count": 15,
   "metadata": {},
   "outputs": [
    {
     "name": "stdout",
     "output_type": "stream",
     "text": [
      "Accuracy para ind_al_menos_un_aprobado con Random Forest: 0.9411611559489717\n",
      "              precision    recall  f1-score   support\n",
      "\n",
      "           0       0.95      0.07      0.14       243\n",
      "           1       0.94      1.00      0.97      3598\n",
      "\n",
      "    accuracy                           0.94      3841\n",
      "   macro avg       0.94      0.54      0.55      3841\n",
      "weighted avg       0.94      0.94      0.92      3841\n",
      "\n"
     ]
    }
   ],
   "source": [
    "from sklearn.ensemble import RandomForestClassifier\n",
    "from sklearn.metrics import accuracy_score, classification_report\n",
    "\n",
    "# Entrenar modelo Random Forest para ind_al_menos_un_aprobado\n",
    "rf_model_1 = RandomForestClassifier(n_estimators=100, random_state=42)\n",
    "rf_model_1.fit(X_train_1, y_train_1)\n",
    "\n",
    "# Predecir en el conjunto de prueba\n",
    "y_pred_1 = rf_model_1.predict(X_test_1)\n",
    "\n",
    "# Evaluación del modelo\n",
    "print(\"Accuracy para ind_al_menos_un_aprobado con Random Forest:\", accuracy_score(y_test_1, y_pred_1))\n",
    "print(classification_report(y_test_1, y_pred_1))\n"
   ]
  },
  {
   "cell_type": "code",
   "execution_count": 16,
   "metadata": {},
   "outputs": [
    {
     "name": "stdout",
     "output_type": "stream",
     "text": [
      "Accuracy para nd_todo_aprobado con Random Forest: 0.576933090341057\n",
      "              precision    recall  f1-score   support\n",
      "\n",
      "           0       0.61      0.55      0.58      2013\n",
      "           1       0.55      0.61      0.58      1828\n",
      "\n",
      "    accuracy                           0.58      3841\n",
      "   macro avg       0.58      0.58      0.58      3841\n",
      "weighted avg       0.58      0.58      0.58      3841\n",
      "\n"
     ]
    }
   ],
   "source": [
    "# Entrenar modelo Random Forest para ind_todo_aprobado\n",
    "rf_model_2 = RandomForestClassifier(n_estimators=100, random_state=42)\n",
    "rf_model_2.fit(X_train_2, y_train_2)\n",
    "\n",
    "# Predecir en el conjunto de prueba\n",
    "y_pred_2 = rf_model_2.predict(X_test_2)\n",
    "\n",
    "# Evaluación del modelo\n",
    "print(\"Accuracy para ind_todo_aprobado con Random Forest:\", accuracy_score(y_test_2, y_pred_2))\n",
    "print(classification_report(y_test_2, y_pred_2))"
   ]
  },
  {
   "cell_type": "markdown",
   "metadata": {},
   "source": [
    "MODELO 2. XGBOOST"
   ]
  },
  {
   "cell_type": "code",
   "execution_count": 18,
   "metadata": {},
   "outputs": [
    {
     "name": "stderr",
     "output_type": "stream",
     "text": [
      "c:\\Users\\PERSONAL\\AppData\\Local\\Programs\\Python\\Python312\\Lib\\site-packages\\xgboost\\core.py:158: UserWarning: [09:33:58] WARNING: C:\\buildkite-agent\\builds\\buildkite-windows-cpu-autoscaling-group-i-0015a694724fa8361-1\\xgboost\\xgboost-ci-windows\\src\\learner.cc:740: \n",
      "Parameters: { \"use_label_encoder\" } are not used.\n",
      "\n",
      "  warnings.warn(smsg, UserWarning)\n"
     ]
    },
    {
     "name": "stdout",
     "output_type": "stream",
     "text": [
      "Accuracy para ind_al_menos_un_aprobado con XGBoost: 0.9409008070814892\n",
      "              precision    recall  f1-score   support\n",
      "\n",
      "           0       0.90      0.07      0.14       243\n",
      "           1       0.94      1.00      0.97      3598\n",
      "\n",
      "    accuracy                           0.94      3841\n",
      "   macro avg       0.92      0.54      0.55      3841\n",
      "weighted avg       0.94      0.94      0.92      3841\n",
      "\n"
     ]
    }
   ],
   "source": [
    "import xgboost as xgb\n",
    "\n",
    "# Entrenar modelo XGBoost para ind_al_menos_un_aprobado\n",
    "xgb_model_1 = xgb.XGBClassifier(use_label_encoder=False, eval_metric='logloss')\n",
    "xgb_model_1.fit(X_train_1, y_train_1)\n",
    "\n",
    "# Predecir en el conjunto de prueba\n",
    "y_pred_1_xgb = xgb_model_1.predict(X_test_1)\n",
    "\n",
    "# Evaluación del modelo\n",
    "print(\"Accuracy para ind_al_menos_un_aprobado con XGBoost:\", accuracy_score(y_test_1, y_pred_1_xgb))\n",
    "print(classification_report(y_test_1, y_pred_1_xgb))\n"
   ]
  },
  {
   "cell_type": "code",
   "execution_count": 19,
   "metadata": {},
   "outputs": [
    {
     "name": "stderr",
     "output_type": "stream",
     "text": [
      "c:\\Users\\PERSONAL\\AppData\\Local\\Programs\\Python\\Python312\\Lib\\site-packages\\xgboost\\core.py:158: UserWarning: [09:34:31] WARNING: C:\\buildkite-agent\\builds\\buildkite-windows-cpu-autoscaling-group-i-0015a694724fa8361-1\\xgboost\\xgboost-ci-windows\\src\\learner.cc:740: \n",
      "Parameters: { \"use_label_encoder\" } are not used.\n",
      "\n",
      "  warnings.warn(smsg, UserWarning)\n"
     ]
    },
    {
     "name": "stdout",
     "output_type": "stream",
     "text": [
      "Accuracy para ind_todo_aprobado con XGBoost: 0.5771934392085395\n",
      "              precision    recall  f1-score   support\n",
      "\n",
      "           0       0.61      0.56      0.58      2013\n",
      "           1       0.55      0.60      0.58      1828\n",
      "\n",
      "    accuracy                           0.58      3841\n",
      "   macro avg       0.58      0.58      0.58      3841\n",
      "weighted avg       0.58      0.58      0.58      3841\n",
      "\n"
     ]
    }
   ],
   "source": [
    "# Entrenar modelo XGBoost para ind_todo_aprobado\n",
    "xgb_model_2 = xgb.XGBClassifier(use_label_encoder=False, eval_metric='logloss')\n",
    "xgb_model_2.fit(X_train_2, y_train_2)\n",
    "\n",
    "# Predecir en el conjunto de prueba\n",
    "y_pred_2_xgb = xgb_model_2.predict(X_test_2)\n",
    "\n",
    "# Evaluación del modelo\n",
    "print(\"Accuracy para ind_todo_aprobado con XGBoost:\", accuracy_score(y_test_2, y_pred_2_xgb))\n",
    "print(classification_report(y_test_2, y_pred_2_xgb))\n"
   ]
  },
  {
   "cell_type": "markdown",
   "metadata": {},
   "source": [
    "MODELO 3. LIGHTGBM"
   ]
  },
  {
   "cell_type": "code",
   "execution_count": 20,
   "metadata": {},
   "outputs": [
    {
     "name": "stdout",
     "output_type": "stream",
     "text": [
      "[LightGBM] [Info] Number of positive: 14354, number of negative: 1010\n",
      "[LightGBM] [Info] Auto-choosing row-wise multi-threading, the overhead of testing was 0.001992 seconds.\n",
      "You can set `force_row_wise=true` to remove the overhead.\n",
      "And if memory is not enough, you can set `force_col_wise=true`.\n",
      "[LightGBM] [Info] Total Bins 33\n",
      "[LightGBM] [Info] Number of data points in the train set: 15364, number of used features: 14\n",
      "[LightGBM] [Info] [binary:BoostFromScore]: pavg=0.934262 -> initscore=2.654078\n",
      "[LightGBM] [Info] Start training from score 2.654078\n",
      "[LightGBM] [Warning] No further splits with positive gain, best gain: -inf\n",
      "[LightGBM] [Warning] No further splits with positive gain, best gain: -inf\n",
      "[LightGBM] [Warning] No further splits with positive gain, best gain: -inf\n",
      "[LightGBM] [Warning] No further splits with positive gain, best gain: -inf\n",
      "[LightGBM] [Warning] No further splits with positive gain, best gain: -inf\n",
      "[LightGBM] [Warning] No further splits with positive gain, best gain: -inf\n",
      "[LightGBM] [Warning] No further splits with positive gain, best gain: -inf\n",
      "[LightGBM] [Warning] No further splits with positive gain, best gain: -inf\n",
      "[LightGBM] [Warning] No further splits with positive gain, best gain: -inf\n",
      "[LightGBM] [Warning] No further splits with positive gain, best gain: -inf\n",
      "[LightGBM] [Warning] No further splits with positive gain, best gain: -inf\n",
      "[LightGBM] [Warning] No further splits with positive gain, best gain: -inf\n",
      "[LightGBM] [Warning] No further splits with positive gain, best gain: -inf\n",
      "[LightGBM] [Warning] No further splits with positive gain, best gain: -inf\n",
      "[LightGBM] [Warning] No further splits with positive gain, best gain: -inf\n",
      "[LightGBM] [Warning] No further splits with positive gain, best gain: -inf\n",
      "[LightGBM] [Warning] No further splits with positive gain, best gain: -inf\n",
      "[LightGBM] [Warning] No further splits with positive gain, best gain: -inf\n",
      "[LightGBM] [Warning] No further splits with positive gain, best gain: -inf\n",
      "[LightGBM] [Warning] No further splits with positive gain, best gain: -inf\n",
      "[LightGBM] [Warning] No further splits with positive gain, best gain: -inf\n",
      "[LightGBM] [Warning] No further splits with positive gain, best gain: -inf\n",
      "[LightGBM] [Warning] No further splits with positive gain, best gain: -inf\n",
      "[LightGBM] [Warning] No further splits with positive gain, best gain: -inf\n",
      "[LightGBM] [Warning] No further splits with positive gain, best gain: -inf\n",
      "[LightGBM] [Warning] No further splits with positive gain, best gain: -inf\n",
      "[LightGBM] [Warning] No further splits with positive gain, best gain: -inf\n",
      "[LightGBM] [Warning] No further splits with positive gain, best gain: -inf\n",
      "[LightGBM] [Warning] No further splits with positive gain, best gain: -inf\n",
      "[LightGBM] [Warning] No further splits with positive gain, best gain: -inf\n",
      "[LightGBM] [Warning] No further splits with positive gain, best gain: -inf\n",
      "[LightGBM] [Warning] No further splits with positive gain, best gain: -inf\n",
      "[LightGBM] [Warning] No further splits with positive gain, best gain: -inf\n",
      "[LightGBM] [Warning] No further splits with positive gain, best gain: -inf\n",
      "[LightGBM] [Warning] No further splits with positive gain, best gain: -inf\n",
      "[LightGBM] [Warning] No further splits with positive gain, best gain: -inf\n",
      "[LightGBM] [Warning] No further splits with positive gain, best gain: -inf\n",
      "[LightGBM] [Warning] No further splits with positive gain, best gain: -inf\n",
      "[LightGBM] [Warning] No further splits with positive gain, best gain: -inf\n",
      "[LightGBM] [Warning] No further splits with positive gain, best gain: -inf\n",
      "[LightGBM] [Warning] No further splits with positive gain, best gain: -inf\n",
      "[LightGBM] [Warning] No further splits with positive gain, best gain: -inf\n",
      "Accuracy para ind_al_menos_un_aprobado con LightGBM: 0.9403801093465244\n",
      "              precision    recall  f1-score   support\n",
      "\n",
      "           0       0.82      0.07      0.14       243\n",
      "           1       0.94      1.00      0.97      3598\n",
      "\n",
      "    accuracy                           0.94      3841\n",
      "   macro avg       0.88      0.54      0.55      3841\n",
      "weighted avg       0.93      0.94      0.92      3841\n",
      "\n"
     ]
    }
   ],
   "source": [
    "import lightgbm as lgb\n",
    "\n",
    "# Entrenar modelo LightGBM para ind_al_menos_un_aprobado\n",
    "lgb_model_1 = lgb.LGBMClassifier()\n",
    "lgb_model_1.fit(X_train_1, y_train_1)\n",
    "\n",
    "# Predecir en el conjunto de prueba\n",
    "y_pred_1_lgb = lgb_model_1.predict(X_test_1)\n",
    "\n",
    "# Evaluación del modelo\n",
    "print(\"Accuracy para ind_al_menos_un_aprobado con LightGBM:\", accuracy_score(y_test_1, y_pred_1_lgb))\n",
    "print(classification_report(y_test_1, y_pred_1_lgb))"
   ]
  },
  {
   "cell_type": "code",
   "execution_count": 21,
   "metadata": {},
   "outputs": [
    {
     "name": "stdout",
     "output_type": "stream",
     "text": [
      "[LightGBM] [Info] Number of positive: 7106, number of negative: 8258\n",
      "[LightGBM] [Info] Auto-choosing row-wise multi-threading, the overhead of testing was 0.001345 seconds.\n",
      "You can set `force_row_wise=true` to remove the overhead.\n",
      "And if memory is not enough, you can set `force_col_wise=true`.\n",
      "[LightGBM] [Info] Total Bins 33\n",
      "[LightGBM] [Info] Number of data points in the train set: 15364, number of used features: 14\n",
      "[LightGBM] [Info] [binary:BoostFromScore]: pavg=0.462510 -> initscore=-0.150243\n",
      "[LightGBM] [Info] Start training from score -0.150243\n",
      "Accuracy para ind_todo_aprobado con LightGBM: 0.5782348346784691\n",
      "              precision    recall  f1-score   support\n",
      "\n",
      "           0       0.61      0.56      0.58      2013\n",
      "           1       0.55      0.60      0.58      1828\n",
      "\n",
      "    accuracy                           0.58      3841\n",
      "   macro avg       0.58      0.58      0.58      3841\n",
      "weighted avg       0.58      0.58      0.58      3841\n",
      "\n"
     ]
    }
   ],
   "source": [
    "# Entrenar modelo LightGBM para ind_todo_aprobado\n",
    "lgb_model_2 = lgb.LGBMClassifier()\n",
    "lgb_model_2.fit(X_train_2, y_train_2)\n",
    "\n",
    "# Predecir en el conjunto de prueba\n",
    "y_pred_2_lgb = lgb_model_2.predict(X_test_2)\n",
    "\n",
    "# Evaluación del modelo\n",
    "print(\"Accuracy para ind_todo_aprobado con LightGBM:\", accuracy_score(y_test_2, y_pred_2_lgb))\n",
    "print(classification_report(y_test_2, y_pred_2_lgb))\n"
   ]
  },
  {
   "cell_type": "code",
   "execution_count": 23,
   "metadata": {},
   "outputs": [
    {
     "name": "stdout",
     "output_type": "stream",
     "text": [
      "Random Forest en ind_al_menos_un_aprobado: [[  18  225]\n",
      " [   1 3597]]\n",
      "Random Forest en ind_todo_aprobado: [[1108  905]\n",
      " [ 720 1108]]\n",
      "XGBoost en ind_al_menos_un_aprobado: [[  18  225]\n",
      " [   2 3596]]\n",
      "XGBoost en ind_todo_aprobado: [[1118  895]\n",
      " [ 729 1099]]\n",
      "LightGBM en ind_al_menos_un_aprobado: [[  18  225]\n",
      " [   4 3594]]\n",
      "LightGBM en ind_todo_aprobado: [[ 222   21]\n",
      " [1629 1969]]\n"
     ]
    },
    {
     "ename": "",
     "evalue": "",
     "output_type": "error",
     "traceback": [
      "\u001b[1;31mThe Kernel crashed while executing code in the current cell or a previous cell. \n",
      "\u001b[1;31mPlease review the code in the cell(s) to identify a possible cause of the failure. \n",
      "\u001b[1;31mClick <a href='https://aka.ms/vscodeJupyterKernelCrash'>here</a> for more info. \n",
      "\u001b[1;31mView Jupyter <a href='command:jupyter.viewOutput'>log</a> for further details."
     ]
    }
   ],
   "source": [
    "from sklearn.metrics import confusion_matrix\n",
    "\n",
    "# Matriz de confusión para Random Forest en ind_al_menos_un_aprobado\n",
    "print(\"Random Forest en ind_al_menos_un_aprobado:\",confusion_matrix(y_test_1, y_pred_1))\n",
    "\n",
    "# Matriz de confusión para Random Forest en ind_todo_aprobado\n",
    "print(\"Random Forest en ind_todo_aprobado:\",confusion_matrix(y_test_2, y_pred_2))\n",
    "\n",
    "# Matriz de confusión para XGBoost en ind_al_menos_un_aprobado\n",
    "print(\"XGBoost en ind_al_menos_un_aprobado:\",confusion_matrix(y_test_1, y_pred_1_xgb))\n",
    "\n",
    "# Matriz de confusión para XGBoost en ind_todo_aprobado\n",
    "print(\"XGBoost en ind_todo_aprobado:\",confusion_matrix(y_test_2, y_pred_2_xgb))\n",
    "\n",
    "# Matriz de confusión para LightGBM en ind_al_menos_un_aprobado\n",
    "print(\"LightGBM en ind_al_menos_un_aprobado:\",confusion_matrix(y_test_1, y_pred_1_lgb))\n",
    "\n",
    "# Matriz de confusión para LightGBM en ind_todo_aprobado\n",
    "print(\"LightGBM en ind_todo_aprobado:\",confusion_matrix(y_test_1, y_pred_2_lgb))\n"
   ]
  }
 ],
 "metadata": {
  "kernelspec": {
   "display_name": "Python 3",
   "language": "python",
   "name": "python3"
  },
  "language_info": {
   "codemirror_mode": {
    "name": "ipython",
    "version": 3
   },
   "file_extension": ".py",
   "mimetype": "text/x-python",
   "name": "python",
   "nbconvert_exporter": "python",
   "pygments_lexer": "ipython3",
   "version": "3.12.4"
  }
 },
 "nbformat": 4,
 "nbformat_minor": 2
}
